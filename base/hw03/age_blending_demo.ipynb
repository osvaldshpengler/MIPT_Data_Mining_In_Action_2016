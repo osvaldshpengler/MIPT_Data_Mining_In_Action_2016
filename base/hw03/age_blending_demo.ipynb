{
 "cells": [
  {
   "cell_type": "code",
   "execution_count": 1,
   "metadata": {
    "collapsed": true
   },
   "outputs": [],
   "source": [
    "path_to_data = '../../datasets/hw03/'"
   ]
  },
  {
   "cell_type": "code",
   "execution_count": 2,
   "metadata": {
    "collapsed": false
   },
   "outputs": [
    {
     "name": "stderr",
     "output_type": "stream",
     "text": [
      "/Users/osv/anaconda2/envs/ml/lib/python2.7/site-packages/sklearn/cross_validation.py:44: DeprecationWarning: This module was deprecated in version 0.18 in favor of the model_selection module into which all the refactored classes and functions are moved. Also note that the interface of the new CV iterators are different from that of this module. This module will be removed in 0.20.\n",
      "  \"This module will be removed in 0.20.\", DeprecationWarning)\n"
     ]
    }
   ],
   "source": [
    "import numpy as np\n",
    "import pandas as pd\n",
    "from sklearn.linear_model import LinearRegression\n",
    "from sklearn.cross_validation import cross_val_score\n",
    "from sklearn.feature_extraction.text import HashingVectorizer\n",
    "from sklearn import manifold, decomposition, linear_model, ensemble, neighbors, cross_validation\n",
    "%matplotlib inline\n",
    "import seaborn as sns\n",
    "import sklearn\n",
    "import matplotlib.pyplot as plt\n",
    "\n",
    "from heamy.dataset import Dataset\n",
    "from heamy.estimator import Regressor, Classifier\n",
    "from heamy.pipeline import ModelsPipeline"
   ]
  },
  {
   "cell_type": "code",
   "execution_count": 3,
   "metadata": {
    "collapsed": true
   },
   "outputs": [],
   "source": [
    "def rmse(x,y):\n",
    "    return np.mean((x - y) ** 2) ** 0.5"
   ]
  },
  {
   "cell_type": "markdown",
   "metadata": {},
   "source": [
    "## Подготовка данных (urls)"
   ]
  },
  {
   "cell_type": "code",
   "execution_count": 4,
   "metadata": {
    "collapsed": false
   },
   "outputs": [],
   "source": [
    "urls_train_df = pd.read_csv(path_to_data + 'url_domain_train', header=None, delimiter='\\t')\n",
    "urls_train_df.columns = ['id', 'url', 'count']\n",
    "urls_train_df = urls_train_df[['id', 'url']]"
   ]
  },
  {
   "cell_type": "code",
   "execution_count": 5,
   "metadata": {
    "collapsed": false
   },
   "outputs": [
    {
     "data": {
      "text/html": [
       "<div>\n",
       "<table border=\"1\" class=\"dataframe\">\n",
       "  <thead>\n",
       "    <tr style=\"text-align: right;\">\n",
       "      <th></th>\n",
       "      <th>id</th>\n",
       "      <th>url</th>\n",
       "    </tr>\n",
       "  </thead>\n",
       "  <tbody>\n",
       "    <tr>\n",
       "      <th>0</th>\n",
       "      <td>000000014B60815F65B38258011B6C01</td>\n",
       "      <td>login.rutracker.org</td>\n",
       "    </tr>\n",
       "    <tr>\n",
       "      <th>1</th>\n",
       "      <td>000000014B60815F65B38258011B6C01</td>\n",
       "      <td>rutracker.org</td>\n",
       "    </tr>\n",
       "    <tr>\n",
       "      <th>2</th>\n",
       "      <td>000000014C03DA2A47AC433A0C755201</td>\n",
       "      <td>admin.tour-spb.net</td>\n",
       "    </tr>\n",
       "    <tr>\n",
       "      <th>3</th>\n",
       "      <td>000000014C03DA2A47AC433A0C755201</td>\n",
       "      <td>czinfo.ru</td>\n",
       "    </tr>\n",
       "    <tr>\n",
       "      <th>4</th>\n",
       "      <td>000000014C03DA2A47AC433A0C755201</td>\n",
       "      <td>forumsostav.ru</td>\n",
       "    </tr>\n",
       "  </tbody>\n",
       "</table>\n",
       "</div>"
      ],
      "text/plain": [
       "                                 id                  url\n",
       "0  000000014B60815F65B38258011B6C01  login.rutracker.org\n",
       "1  000000014B60815F65B38258011B6C01        rutracker.org\n",
       "2  000000014C03DA2A47AC433A0C755201   admin.tour-spb.net\n",
       "3  000000014C03DA2A47AC433A0C755201            czinfo.ru\n",
       "4  000000014C03DA2A47AC433A0C755201       forumsostav.ru"
      ]
     },
     "execution_count": 5,
     "metadata": {},
     "output_type": "execute_result"
    }
   ],
   "source": [
    "urls_train_df.head()"
   ]
  },
  {
   "cell_type": "code",
   "execution_count": 6,
   "metadata": {
    "collapsed": false
   },
   "outputs": [],
   "source": [
    "urls_train_df = pd.DataFrame(urls_train_df.groupby('id')['url'].apply(lambda x: x.tolist()))\n",
    "urls_train_df['id'] = urls_train_df.index\n",
    "urls_train_df.index = range(len(urls_train_df))\n",
    "urls_train_df.columns = ['urls', 'id']"
   ]
  },
  {
   "cell_type": "code",
   "execution_count": 7,
   "metadata": {
    "collapsed": false
   },
   "outputs": [
    {
     "data": {
      "text/html": [
       "<div>\n",
       "<table border=\"1\" class=\"dataframe\">\n",
       "  <thead>\n",
       "    <tr style=\"text-align: right;\">\n",
       "      <th></th>\n",
       "      <th>urls</th>\n",
       "      <th>id</th>\n",
       "    </tr>\n",
       "  </thead>\n",
       "  <tbody>\n",
       "    <tr>\n",
       "      <th>0</th>\n",
       "      <td>[id.rambler.ru, mail.rambler.ru, r0.ru]</td>\n",
       "      <td>000000013CB5719C0000A2C90002C101</td>\n",
       "    </tr>\n",
       "    <tr>\n",
       "      <th>1</th>\n",
       "      <td>[1prime.ru, autorambler.ru, chellak.ru, docs.c...</td>\n",
       "      <td>00000001442BE24000001B7D00F50801</td>\n",
       "    </tr>\n",
       "    <tr>\n",
       "      <th>2</th>\n",
       "      <td>[bosch-korolev.ru]</td>\n",
       "      <td>00000001448580F800003F1B31FB0901</td>\n",
       "    </tr>\n",
       "    <tr>\n",
       "      <th>3</th>\n",
       "      <td>[aptekanizkihcen.ua, colady.ru, gorod.dp.ua, i...</td>\n",
       "      <td>0000000145BDB2FF000157971645E901</td>\n",
       "    </tr>\n",
       "    <tr>\n",
       "      <th>4</th>\n",
       "      <td>[astrorok.ru, diets.ru, edaplus.info, eshzdoro...</td>\n",
       "      <td>000000014602771F0000DB9359714C01</td>\n",
       "    </tr>\n",
       "  </tbody>\n",
       "</table>\n",
       "</div>"
      ],
      "text/plain": [
       "                                                urls  \\\n",
       "0            [id.rambler.ru, mail.rambler.ru, r0.ru]   \n",
       "1  [1prime.ru, autorambler.ru, chellak.ru, docs.c...   \n",
       "2                                 [bosch-korolev.ru]   \n",
       "3  [aptekanizkihcen.ua, colady.ru, gorod.dp.ua, i...   \n",
       "4  [astrorok.ru, diets.ru, edaplus.info, eshzdoro...   \n",
       "\n",
       "                                 id  \n",
       "0  000000013CB5719C0000A2C90002C101  \n",
       "1  00000001442BE24000001B7D00F50801  \n",
       "2  00000001448580F800003F1B31FB0901  \n",
       "3  0000000145BDB2FF000157971645E901  \n",
       "4  000000014602771F0000DB9359714C01  "
      ]
     },
     "execution_count": 7,
     "metadata": {},
     "output_type": "execute_result"
    }
   ],
   "source": [
    "urls_train_df.head()"
   ]
  },
  {
   "cell_type": "code",
   "execution_count": 8,
   "metadata": {
    "collapsed": false
   },
   "outputs": [],
   "source": [
    "age_train_df = pd.read_csv(path_to_data + 'age_profile_train', header=None, delimiter='\\t')\n",
    "age_train_df.columns = ['id', 'age']"
   ]
  },
  {
   "cell_type": "code",
   "execution_count": 9,
   "metadata": {
    "collapsed": false
   },
   "outputs": [
    {
     "data": {
      "text/html": [
       "<div>\n",
       "<table border=\"1\" class=\"dataframe\">\n",
       "  <thead>\n",
       "    <tr style=\"text-align: right;\">\n",
       "      <th></th>\n",
       "      <th>id</th>\n",
       "      <th>age</th>\n",
       "    </tr>\n",
       "  </thead>\n",
       "  <tbody>\n",
       "    <tr>\n",
       "      <th>0</th>\n",
       "      <td>000000013CB5719C0000A2C90002C101</td>\n",
       "      <td>53</td>\n",
       "    </tr>\n",
       "    <tr>\n",
       "      <th>1</th>\n",
       "      <td>00000001442BE24000001B7D00F50801</td>\n",
       "      <td>48</td>\n",
       "    </tr>\n",
       "    <tr>\n",
       "      <th>2</th>\n",
       "      <td>00000001448580F800003F1B31FB0901</td>\n",
       "      <td>28</td>\n",
       "    </tr>\n",
       "    <tr>\n",
       "      <th>3</th>\n",
       "      <td>0000000145BDB2FF000157971645E901</td>\n",
       "      <td>44</td>\n",
       "    </tr>\n",
       "    <tr>\n",
       "      <th>4</th>\n",
       "      <td>000000014602771F0000DB9359714C01</td>\n",
       "      <td>48</td>\n",
       "    </tr>\n",
       "  </tbody>\n",
       "</table>\n",
       "</div>"
      ],
      "text/plain": [
       "                                 id  age\n",
       "0  000000013CB5719C0000A2C90002C101   53\n",
       "1  00000001442BE24000001B7D00F50801   48\n",
       "2  00000001448580F800003F1B31FB0901   28\n",
       "3  0000000145BDB2FF000157971645E901   44\n",
       "4  000000014602771F0000DB9359714C01   48"
      ]
     },
     "execution_count": 9,
     "metadata": {},
     "output_type": "execute_result"
    }
   ],
   "source": [
    "age_train_df.head()"
   ]
  },
  {
   "cell_type": "code",
   "execution_count": 10,
   "metadata": {
    "collapsed": false,
    "scrolled": false
   },
   "outputs": [],
   "source": [
    "train_df = urls_train_df.merge(age_train_df, on='id', how='left')"
   ]
  },
  {
   "cell_type": "code",
   "execution_count": 11,
   "metadata": {
    "collapsed": false
   },
   "outputs": [
    {
     "data": {
      "text/html": [
       "<div>\n",
       "<table border=\"1\" class=\"dataframe\">\n",
       "  <thead>\n",
       "    <tr style=\"text-align: right;\">\n",
       "      <th></th>\n",
       "      <th>urls</th>\n",
       "      <th>id</th>\n",
       "      <th>age</th>\n",
       "    </tr>\n",
       "  </thead>\n",
       "  <tbody>\n",
       "    <tr>\n",
       "      <th>0</th>\n",
       "      <td>[id.rambler.ru, mail.rambler.ru, r0.ru]</td>\n",
       "      <td>000000013CB5719C0000A2C90002C101</td>\n",
       "      <td>53</td>\n",
       "    </tr>\n",
       "    <tr>\n",
       "      <th>1</th>\n",
       "      <td>[1prime.ru, autorambler.ru, chellak.ru, docs.c...</td>\n",
       "      <td>00000001442BE24000001B7D00F50801</td>\n",
       "      <td>48</td>\n",
       "    </tr>\n",
       "    <tr>\n",
       "      <th>2</th>\n",
       "      <td>[bosch-korolev.ru]</td>\n",
       "      <td>00000001448580F800003F1B31FB0901</td>\n",
       "      <td>28</td>\n",
       "    </tr>\n",
       "    <tr>\n",
       "      <th>3</th>\n",
       "      <td>[aptekanizkihcen.ua, colady.ru, gorod.dp.ua, i...</td>\n",
       "      <td>0000000145BDB2FF000157971645E901</td>\n",
       "      <td>44</td>\n",
       "    </tr>\n",
       "    <tr>\n",
       "      <th>4</th>\n",
       "      <td>[astrorok.ru, diets.ru, edaplus.info, eshzdoro...</td>\n",
       "      <td>000000014602771F0000DB9359714C01</td>\n",
       "      <td>48</td>\n",
       "    </tr>\n",
       "  </tbody>\n",
       "</table>\n",
       "</div>"
      ],
      "text/plain": [
       "                                                urls  \\\n",
       "0            [id.rambler.ru, mail.rambler.ru, r0.ru]   \n",
       "1  [1prime.ru, autorambler.ru, chellak.ru, docs.c...   \n",
       "2                                 [bosch-korolev.ru]   \n",
       "3  [aptekanizkihcen.ua, colady.ru, gorod.dp.ua, i...   \n",
       "4  [astrorok.ru, diets.ru, edaplus.info, eshzdoro...   \n",
       "\n",
       "                                 id  age  \n",
       "0  000000013CB5719C0000A2C90002C101   53  \n",
       "1  00000001442BE24000001B7D00F50801   48  \n",
       "2  00000001448580F800003F1B31FB0901   28  \n",
       "3  0000000145BDB2FF000157971645E901   44  \n",
       "4  000000014602771F0000DB9359714C01   48  "
      ]
     },
     "execution_count": 11,
     "metadata": {},
     "output_type": "execute_result"
    }
   ],
   "source": [
    "train_df.head()"
   ]
  },
  {
   "cell_type": "markdown",
   "metadata": {},
   "source": [
    "## Снижение размерности"
   ]
  },
  {
   "cell_type": "code",
   "execution_count": 12,
   "metadata": {
    "collapsed": false
   },
   "outputs": [],
   "source": [
    "topk = 300000\n",
    "X, y = train_df.urls.values[:topk], train_df.age.values[:topk]"
   ]
  },
  {
   "cell_type": "code",
   "execution_count": 13,
   "metadata": {
    "collapsed": false,
    "scrolled": true
   },
   "outputs": [
    {
     "data": {
      "text/plain": [
       "<matplotlib.axes._subplots.AxesSubplot at 0x10444ea10>"
      ]
     },
     "execution_count": 13,
     "metadata": {},
     "output_type": "execute_result"
    },
    {
     "data": {
      "image/png": "[encoded data removed]",
      "text/plain": [
       "<matplotlib.figure.Figure at 0x10444e810>"
      ]
     },
     "metadata": {},
     "output_type": "display_data"
    }
   ],
   "source": [
    "url_frequency = pd.Series([j for i in X for j in i]).value_counts()\n",
    "url_frequency.index = range(len(url_frequency))\n",
    "\n",
    "url_frequency.cumsum().plot(figsize=(12,2))"
   ]
  },
  {
   "cell_type": "code",
   "execution_count": 14,
   "metadata": {
    "collapsed": false
   },
   "outputs": [],
   "source": [
    "X = map(lambda x: ' '.join(x), X)\n",
    "hw = HashingVectorizer(n_features=1000, non_negative=True).fit(X)\n",
    "X = hw.transform(X).todense()"
   ]
  },
  {
   "cell_type": "code",
   "execution_count": 15,
   "metadata": {
    "collapsed": false,
    "scrolled": true
   },
   "outputs": [
    {
     "data": {
      "text/plain": [
       "(118603, 1000)"
      ]
     },
     "execution_count": 15,
     "metadata": {},
     "output_type": "execute_result"
    }
   ],
   "source": [
    "X.shape"
   ]
  },
  {
   "cell_type": "code",
   "execution_count": null,
   "metadata": {
    "collapsed": false
   },
   "outputs": [],
   "source": [
    "%%time\n",
    "\n",
    "transformer = sklearn.decomposition.NMF(n_components=100)\n",
    "X_nmf = transformer.fit_transform(X)"
   ]
  },
  {
   "cell_type": "markdown",
   "metadata": {},
   "source": [
    "## Холдаут"
   ]
  },
  {
   "cell_type": "code",
   "execution_count": 16,
   "metadata": {
    "collapsed": false
   },
   "outputs": [
    {
     "data": {
      "text/plain": [
       "(79068, 39535)"
      ]
     },
     "execution_count": 16,
     "metadata": {},
     "output_type": "execute_result"
    }
   ],
   "source": [
    "itrain, itest = cross_validation.train_test_split(range(len(X)), test_size=1./3, random_state=0)\n",
    "len(itrain), len(itest)"
   ]
  },
  {
   "cell_type": "markdown",
   "metadata": {},
   "source": [
    "## Обучение модели"
   ]
  },
  {
   "cell_type": "raw",
   "metadata": {},
   "source": [
    "Константный бейзлайн"
   ]
  },
  {
   "cell_type": "code",
   "execution_count": 17,
   "metadata": {
    "collapsed": false
   },
   "outputs": [
    {
     "data": {
      "text/plain": [
       "12.546984607126014"
      ]
     },
     "execution_count": 17,
     "metadata": {},
     "output_type": "execute_result"
    }
   ],
   "source": [
    "rmse(y[itest], np.mean(y[itrain]))"
   ]
  },
  {
   "cell_type": "raw",
   "metadata": {},
   "source": [
    "Линейная модель на обычных фичах"
   ]
  },
  {
   "cell_type": "code",
   "execution_count": 156,
   "metadata": {
    "collapsed": false
   },
   "outputs": [
    {
     "name": "stdout",
     "output_type": "stream",
     "text": [
      "11.9053939779\n"
     ]
    }
   ],
   "source": [
    "reg = LinearRegression()\n",
    "reg.fit(X[itrain, :], y[itrain])\n",
    "\n",
    "pred_X = reg.predict(X[itest, :])\n",
    "print rmse(y[itest], pred_X)"
   ]
  },
  {
   "cell_type": "raw",
   "metadata": {},
   "source": [
    "Линейная модель на NMF от обычных фичей"
   ]
  },
  {
   "cell_type": "code",
   "execution_count": 157,
   "metadata": {
    "collapsed": false,
    "scrolled": false
   },
   "outputs": [
    {
     "name": "stdout",
     "output_type": "stream",
     "text": [
      "12.0059923586\n"
     ]
    }
   ],
   "source": [
    "reg = LinearRegression()\n",
    "reg.fit(X_nmf[itrain, :], y[itrain])\n",
    "\n",
    "pred_X_nmf = reg.predict(X_nmf[itest, :])\n",
    "print rmse(y[itest], pred_X_nmf)"
   ]
  },
  {
   "cell_type": "raw",
   "metadata": {},
   "source": [
    "Линейная комбинация"
   ]
  },
  {
   "cell_type": "code",
   "execution_count": 169,
   "metadata": {
    "collapsed": false
   },
   "outputs": [
    {
     "name": "stdout",
     "output_type": "stream",
     "text": [
      "11.8794101395\n"
     ]
    },
    {
     "data": {
      "image/png": "[encoded data removed]",
      "text/plain": [
       "<matplotlib.figure.Figure at 0x7ff994c8fb50>"
      ]
     },
     "metadata": {},
     "output_type": "display_data"
    }
   ],
   "source": [
    "error = []\n",
    "for w in np.linspace(0, 1, 100):\n",
    "     error += [rmse(y[itest], pred_X * w + (1-w) * pred_X_nmf)]\n",
    "\n",
    "pd.Series(error, index=np.linspace(0, 1, 100)).plot(figsize=(6,3))\n",
    "print min(error)"
   ]
  },
  {
   "cell_type": "markdown",
   "metadata": {},
   "source": [
    "## Blenging с помощью heamy\n",
    "pip install heamy\n",
    "\n",
    "https://github.com/rushter/heamy"
   ]
  },
  {
   "cell_type": "code",
   "execution_count": 187,
   "metadata": {
    "collapsed": false
   },
   "outputs": [],
   "source": [
    "from sklearn import pipeline, preprocessing, feature_extraction"
   ]
  },
  {
   "cell_type": "code",
   "execution_count": 195,
   "metadata": {
    "collapsed": false,
    "scrolled": true
   },
   "outputs": [
    {
     "name": "stdout",
     "output_type": "stream",
     "text": [
      "11.77521733\n"
     ]
    }
   ],
   "source": [
    "# %%time\n",
    "\n",
    "# обычный датасет\n",
    "dataset1 = Dataset(X[itrain, :], y[itrain], X[itest, :])\n",
    "# NMF\n",
    "dataset2 = Dataset(X_nmf[itrain, :], y[itrain], X_nmf[itest, :])\n",
    "\n",
    "# линейная модель на обычных данных\n",
    "lr = Regressor(dataset=dataset1, \n",
    "                     estimator=linear_model.LinearRegression,\n",
    "                     parameters={'normalize': True},\n",
    "                     name='lr')\n",
    "\n",
    "# линейная модель на TFIDF от обычных данных\n",
    "def tfidf_lr_(X_train, y_train, X_test, y_test=None, random_state=8888):\n",
    "    model = pipeline.Pipeline([('tfidf', feature_extraction.text.TfidfTransformer()), \n",
    "                                ('linear_model', linear_model.LinearRegression())])\n",
    "    model.fit(X_train, y_train)\n",
    "    return model.predict(X_test)\n",
    "\n",
    "tfidf_lr = Regressor(dataset=dataset1,\n",
    "                     estimator=tfidf_lr_,\n",
    "                     name='tfidf_lr')\n",
    "\n",
    "# ExtraTrees на NMF\n",
    "rf = Regressor(dataset=dataset2, \n",
    "                     estimator=ensemble.ExtraTreesRegressor,\n",
    "                     parameters={'n_estimators': 100, 'n_jobs': -1},\n",
    "                     name='rf')\n",
    "\n",
    "# Stack two models\n",
    "# Returns new dataset with out-of-fold predictions\n",
    "meta_pipeline = ModelsPipeline(lr, tfidf_lr, rf)\n",
    "stack_ds = meta_pipeline.blend(proportion=0.2,seed=111)\n",
    "\n",
    "# Train LinearRegression on stacked data (second stage)\n",
    "stacker = Regressor(dataset=stack_ds, estimator=LinearRegression)\n",
    "results = stacker.predict()\n",
    "\n",
    "print rmse(y[itest], results)"
   ]
  },
  {
   "cell_type": "code",
   "execution_count": null,
   "metadata": {
    "collapsed": true
   },
   "outputs": [],
   "source": []
  }
 ],
 "metadata": {
  "anaconda-cloud": {},
  "kernelspec": {
   "display_name": "Python [conda env:ml]",
   "language": "python",
   "name": "conda-env-ml-py"
  },
  "language_info": {
   "codemirror_mode": {
    "name": "ipython",
    "version": 2
   },
   "file_extension": ".py",
   "mimetype": "text/x-python",
   "name": "python",
   "nbconvert_exporter": "python",
   "pygments_lexer": "ipython2",
   "version": "2.7.12"
  }
 },
 "nbformat": 4,
 "nbformat_minor": 0
}
